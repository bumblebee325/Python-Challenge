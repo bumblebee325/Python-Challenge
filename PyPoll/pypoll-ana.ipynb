{
 "cells": [
  {
   "cell_type": "code",
   "execution_count": 1,
   "id": "8cf11f5f-8c13-4c31-9b7d-5d8842d46765",
   "metadata": {},
   "outputs": [
    {
     "name": "stdout",
     "output_type": "stream",
     "text": [
      "\n",
      "Election Results\n",
      "-------------------------\n",
      "Total Votes: 369711\n",
      "-------------------------\n",
      "Charles Casper Stockham: 23.049% (85213)\n",
      "Diana DeGette: 73.812% (272892)\n",
      "Raymon Anthony Doane: 3.139% (11606)\n",
      "-------------------------\n",
      "Winner: Diana DeGette\n",
      "-------------------------\n",
      "\n"
     ]
    }
   ],
   "source": [
    "import os\n",
    "import csv\n",
    "\n",
    "# Path to collect data from the Resources folder\n",
    "election_data_csv = os.path.join(\"Resources\", \"election_data.csv\")\n",
    "\n",
    "# Initialize variables to store data\n",
    "total_votes = 0\n",
    "candidates = {}\n",
    "candidate_percentages = {}\n",
    "\n",
    "# Read in the CSV file\n",
    "with open(election_data_csv, 'r') as csvfile:\n",
    "    csvreader = csv.reader(csvfile, delimiter=',')\n",
    "    header = next(csvreader)  # Skip header row\n",
    "    \n",
    "    # Loop through rows in the dataset\n",
    "    for row in csvreader:\n",
    "        # Count total votes\n",
    "        total_votes += 1\n",
    "        \n",
    "        # Track votes for each candidate\n",
    "        candidate_name = row[2]\n",
    "        if candidate_name in candidates:\n",
    "            candidates[candidate_name] += 1\n",
    "        else:\n",
    "            candidates[candidate_name] = 1\n",
    "\n",
    "# Calculate the percentage of votes each candidate won\n",
    "for candidate in candidates:\n",
    "    candidate_percentages[candidate] = (candidates[candidate] / total_votes) * 100\n",
    "\n",
    "# Determine the winner based on popular vote\n",
    "winner = max(candidates, key=candidates.get)\n",
    "\n",
    "# Format the analysis output\n",
    "analysis_output = (\n",
    "    f\"\\nElection Results\\n\"\n",
    "    f\"-------------------------\\n\"\n",
    "    f\"Total Votes: {total_votes}\\n\"\n",
    "    f\"-------------------------\\n\"\n",
    ")\n",
    "\n",
    "for candidate in candidates:\n",
    "    analysis_output += f\"{candidate}: {candidate_percentages[candidate]:.3f}% ({candidates[candidate]})\\n\"\n",
    "\n",
    "analysis_output += (\n",
    "    f\"-------------------------\\n\"\n",
    "    f\"Winner: {winner}\\n\"\n",
    "    f\"-------------------------\\n\"\n",
    ")\n",
    "\n",
    "# Print the analysis output\n",
    "print(analysis_output)\n"
   ]
  },
  {
   "cell_type": "code",
   "execution_count": null,
   "id": "a916aab0-c3a0-4a53-8e41-415fd9fbe4df",
   "metadata": {},
   "outputs": [],
   "source": []
  }
 ],
 "metadata": {
  "kernelspec": {
   "display_name": "Python 3 (ipykernel)",
   "language": "python",
   "name": "python3"
  },
  "language_info": {
   "codemirror_mode": {
    "name": "ipython",
    "version": 3
   },
   "file_extension": ".py",
   "mimetype": "text/x-python",
   "name": "python",
   "nbconvert_exporter": "python",
   "pygments_lexer": "ipython3",
   "version": "3.12.3"
  }
 },
 "nbformat": 4,
 "nbformat_minor": 5
}
