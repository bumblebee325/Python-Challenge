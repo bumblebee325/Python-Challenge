{
 "cells": [
  {
   "cell_type": "code",
   "execution_count": 5,
   "id": "96958006-4860-4922-a14a-bf1b73002303",
   "metadata": {},
   "outputs": [
    {
     "name": "stdout",
     "output_type": "stream",
     "text": [
      "\n",
      "Financial Analysis\n",
      "----------------------------\n",
      "Total Months: 86\n",
      "Total: $22564198\n",
      "Average Change: $4448.13\n",
      "Greatest Increase in Profits: Aug-16 ($1862002)\n",
      "Greatest Decrease in Profits: Feb-14 ($-1825558)\n",
      "\n"
     ]
    }
   ],
   "source": [
    "# Dependencies\n",
    "import os\n",
    "import csv\n",
    "\n",
    "# file to load and output\n",
    "budget_data_csv = os.path.join(\"Resources\", \"budget_data.csv\")\n",
    "\n",
    "\n",
    "total_months = 0\n",
    "total_profit_loss = 0\n",
    "previous_profit_loss = 0\n",
    "profit_loss_change = 0\n",
    "profit_loss_changes = []\n",
    "months = []\n",
    "greatest_increase = [\"\", 0]\n",
    "greatest_decrease = [\"\", 9999999999999999999]\n",
    "\n",
    "# Read in the CSV file\n",
    "with open(budget_data_csv, 'r') as csvfile:\n",
    "    csvreader = csv.reader(csvfile, delimiter=',')\n",
    "    header = next(csvreader)  # Skip header row\n",
    "    \n",
    "    # Loop through rows in the dataset\n",
    "    for row in csvreader:\n",
    "        # Count months\n",
    "        total_months += 1\n",
    "        # Calculate total profit/loss\n",
    "        total_profit_loss += int(row[1])\n",
    "        \n",
    "        # Track changes in profit/loss\n",
    "        profit_loss_change = int(row[1]) - previous_profit_loss\n",
    "        profit_loss_changes.append(profit_loss_change)\n",
    "        previous_profit_loss = int(row[1])\n",
    "        months.append(row[0])\n",
    "        \n",
    "        # Determine greatest increase in profits\n",
    "        if profit_loss_change > greatest_increase[1]:\n",
    "            greatest_increase[0] = row[0]\n",
    "            greatest_increase[1] = profit_loss_change\n",
    "        \n",
    "        # Determine greatest decrease in losses\n",
    "        if profit_loss_change < greatest_decrease[1]:\n",
    "            greatest_decrease[0] = row[0]\n",
    "            greatest_decrease[1] = profit_loss_change\n",
    "\n",
    "# Calculate the average change in profit/loss\n",
    "average_change = sum(profit_loss_changes) / len(profit_loss_changes)\n",
    "\n",
    "# Format average_change to two decimal places\n",
    "average_change = round(average_change, 2)\n",
    "\n",
    "# Prepare the analysis output\n",
    "analysis_output = (\n",
    "    f\"\\nFinancial Analysis\\n\"\n",
    "    f\"----------------------------\\n\"\n",
    "    f\"Total Months: {total_months}\\n\"\n",
    "    f\"Total: ${total_profit_loss}\\n\"\n",
    "    f\"Average Change: ${average_change}\\n\"\n",
    "    f\"Greatest Increase in Profits: {greatest_increase[0]} (${greatest_increase[1]})\\n\"\n",
    "    f\"Greatest Decrease in Profits: {greatest_decrease[0]} (${greatest_decrease[1]})\\n\"\n",
    ")\n",
    "\n",
    "# Print the analysis output\n",
    "print(analysis_output)\n",
    "\n",
    "\n",
    "\n"
   ]
  },
  {
   "cell_type": "code",
   "execution_count": null,
   "id": "60df5733-7f5a-4f83-a835-4dd598846a0d",
   "metadata": {},
   "outputs": [],
   "source": []
  }
 ],
 "metadata": {
  "kernelspec": {
   "display_name": "Python 3 (ipykernel)",
   "language": "python",
   "name": "python3"
  },
  "language_info": {
   "codemirror_mode": {
    "name": "ipython",
    "version": 3
   },
   "file_extension": ".py",
   "mimetype": "text/x-python",
   "name": "python",
   "nbconvert_exporter": "python",
   "pygments_lexer": "ipython3",
   "version": "3.12.3"
  }
 },
 "nbformat": 4,
 "nbformat_minor": 5
}
